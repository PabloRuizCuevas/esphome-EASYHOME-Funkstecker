{
 "cells": [
  {
   "cell_type": "code",
   "execution_count": 1,
   "metadata": {},
   "outputs": [],
   "source": [
    "import matplotlib.pyplot as plt\n",
    "import pandas as pd"
   ]
  },
  {
   "cell_type": "code",
   "execution_count": 2,
   "metadata": {},
   "outputs": [],
   "source": [
    "path=\"/home/pablo/Downloads/data\""
   ]
  },
  {
   "cell_type": "code",
   "execution_count": 3,
   "metadata": {},
   "outputs": [
    {
     "name": "stdout",
     "output_type": "stream",
     "text": [
      "['/home/pablo/Downloads/data/prueba2.dat', '/home/pablo/Downloads/data/prueba1.dat']\n"
     ]
    }
   ],
   "source": [
    "import os\n",
    "path_list=[]\n",
    "for file in os.listdir(path):\n",
    "    if file.endswith(\".dat\"):\n",
    "        path_list.append(os.path.join(path, file))\n",
    "print(path_list)"
   ]
  },
  {
   "cell_type": "code",
   "execution_count": 4,
   "metadata": {},
   "outputs": [],
   "source": [
    "df=pd.concat([pd.read_csv(path,sep=\"|\",header=[0,2]) for path in path_list ], axis=1 )\n",
    "names=[i[0].strip() for i in list(df.columns.values)]\n",
    "names[37:]= [\"filter2_\"+i for i in names[37:]]\n",
    "df.columns = names\n",
    "df.drop(df.columns[[37,38, 39, 40, 43, 44]], axis=1, inplace=True)\n",
    "\n",
    "#optional maybe what you expected to have, but not recomended by me (columns with same name are bullshit)\n",
    "#names= [ re.sub('filter2_', '', i) for i in df.columns.values]\n",
    "#df.columns = names\n",
    "\n",
    "df.to_csv(\"/home/pablo/Downloads/data/pandas_merged_by_prc.csv\", sep=',')"
   ]
  },
  {
   "cell_type": "code",
   "execution_count": 18,
   "metadata": {},
   "outputs": [
    {
     "data": {
      "text/plain": [
       "0     DDDU\n",
       "1     DDDU\n",
       "2     DDDU\n",
       "3     DDDD\n",
       "4     cCcc\n",
       "5     DDDD\n",
       "6     DDDD\n",
       "7     UUUU\n",
       "8     CcCc\n",
       "9     cccc\n",
       "10    cccc\n",
       "11    cCcc\n",
       "12    cccc\n",
       "13    UUUU\n",
       "14    cccc\n",
       "15    DDDD\n",
       "16    cccc\n",
       "17    DUDD\n",
       "18    cccc\n",
       "19    cccc\n",
       "20    CccC\n",
       "Name: F, dtype: object"
      ]
     },
     "execution_count": 18,
     "metadata": {},
     "output_type": "execute_result"
    }
   ],
   "source": [
    "df[\"F\"]"
   ]
  },
  {
   "cell_type": "code",
   "execution_count": 8,
   "metadata": {},
   "outputs": [
    {
     "data": {
      "text/plain": [
       "'ENOVWZ'"
      ]
     },
     "execution_count": 8,
     "metadata": {},
     "output_type": "execute_result"
    }
   ],
   "source": [
    "df[\"F\"]\n"
   ]
  },
  {
   "cell_type": "code",
   "execution_count": 16,
   "metadata": {},
   "outputs": [],
   "source": [
    "def sort(A): # alfabetico \n",
    "    return [\"\".join(sorted(a)) for a in A]\n"
   ]
  },
  {
   "cell_type": "code",
   "execution_count": 25,
   "metadata": {},
   "outputs": [],
   "source": [
    "def sort2(A):  # tipo de sort en orden 3012 \n",
    "    return [\"\".join([a[3],a[0],a[1],a[2]]) for a in A]"
   ]
  },
  {
   "cell_type": "code",
   "execution_count": 26,
   "metadata": {},
   "outputs": [],
   "source": [
    "df[\"F_sorted\"] = sort2(df[\"F\"])"
   ]
  },
  {
   "cell_type": "code",
   "execution_count": 28,
   "metadata": {},
   "outputs": [
    {
     "data": {
      "text/plain": [
       "0     UDDD\n",
       "1     UDDD\n",
       "2     UDDD\n",
       "3     DDDD\n",
       "4     ccCc\n",
       "5     DDDD\n",
       "6     DDDD\n",
       "7     UUUU\n",
       "8     cCcC\n",
       "9     cccc\n",
       "10    cccc\n",
       "11    ccCc\n",
       "12    cccc\n",
       "13    UUUU\n",
       "14    cccc\n",
       "15    DDDD\n",
       "16    cccc\n",
       "17    DDUD\n",
       "18    cccc\n",
       "19    cccc\n",
       "20    CCcc\n",
       "Name: F_sorted, dtype: object"
      ]
     },
     "execution_count": 28,
     "metadata": {},
     "output_type": "execute_result"
    }
   ],
   "source": [
    "df[\"F_sorted\"]"
   ]
  },
  {
   "cell_type": "code",
   "execution_count": null,
   "metadata": {},
   "outputs": [],
   "source": []
  }
 ],
 "metadata": {
  "kernelspec": {
   "display_name": "Python 3",
   "language": "python",
   "name": "python3"
  },
  "language_info": {
   "codemirror_mode": {
    "name": "ipython",
    "version": 3
   },
   "file_extension": ".py",
   "mimetype": "text/x-python",
   "name": "python",
   "nbconvert_exporter": "python",
   "pygments_lexer": "ipython3",
   "version": "3.8.3"
  }
 },
 "nbformat": 4,
 "nbformat_minor": 4
}
